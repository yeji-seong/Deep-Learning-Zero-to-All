{
 "cells": [
  {
   "cell_type": "markdown",
   "metadata": {},
   "source": [
    "# LAB 02"
   ]
  },
  {
   "cell_type": "markdown",
   "metadata": {},
   "source": [
    "## Linear Regression"
   ]
  },
  {
   "cell_type": "markdown",
   "metadata": {},
   "source": [
    "#### tf.Variable() : 변수 생성 (tensorflow가 돌아가며 값을 변경) \n",
    "#### tf.random_normal() : random number 생성 \n",
    "#### tf.reduce_mean() : 평균 \n",
    "#### tf.square() : 제곱 \n",
    "#### tf.train.GradientDescentOptimizer() : 최적화 함수 호출 \n",
    "#### optimizer.minimize() : 최소화 함수 \n",
    "#### tf.global_variables_initializer() : global variable 초기화"
   ]
  },
  {
   "cell_type": "code",
   "execution_count": 11,
   "metadata": {},
   "outputs": [
    {
     "name": "stdout",
     "output_type": "stream",
     "text": [
      "0 14.138527 [-0.6201174] [-0.27951974]\n",
      "200 0.0072156894 [0.9013414] [0.22427428]\n",
      "400 0.0027552948 [0.93903506] [0.13858783]\n",
      "600 0.0010521099 [0.96232736] [0.08563872]\n",
      "800 0.00040174727 [0.9767206] [0.05291957]\n",
      "1000 0.00015340414 [0.98561484] [0.03270096]\n",
      "1200 5.857839e-05 [0.9911108] [0.02020724]\n",
      "1400 2.2367356e-05 [0.9945071] [0.01248675]\n",
      "1600 8.540961e-06 [0.99660575] [0.00771595]\n",
      "1800 3.2613882e-06 [0.9979026] [0.00476797]\n",
      "2000 1.2453027e-06 [0.9987039] [0.00294635]\n"
     ]
    }
   ],
   "source": [
    "import tensorflow as tf\n",
    "\n",
    "# X and Y data\n",
    "x_train = [1, 2, 3]\n",
    "y_train = [1, 2, 3]\n",
    "\n",
    "W = tf.Variable(tf.random_normal([1]), name = 'weight')\n",
    "b = tf.Variable(tf.random_normal([1]), name = 'bias')\n",
    "\n",
    "# Our hypothesis XW + b\n",
    "hypothesis = x_train * W + b\n",
    "\n",
    "# cost/loss funtion\n",
    "cost = tf.reduce_mean(tf.square(hypothesis - y_train))\n",
    "\n",
    "# Minimize\n",
    "optimizer = tf.train.GradientDescentOptimizer(learning_rate=0.01)\n",
    "train = optimizer.minimize(cost)\n",
    "\n",
    "# Launch the graph in a session\n",
    "sess = tf.Session()\n",
    "# Initializes global variables in the graph\n",
    "sess.run(tf.global_variables_initializer())\n",
    "\n",
    "# Fit the line\n",
    "for step in range(2001):\n",
    "    sess.run(train)\n",
    "    if step % 200 == 0:\n",
    "        print(step, sess.run(cost), sess.run(W), sess.run(b))\n",
    "        "
   ]
  },
  {
   "cell_type": "markdown",
   "metadata": {},
   "source": [
    "## Linear regression with placeholders"
   ]
  },
  {
   "cell_type": "code",
   "execution_count": 17,
   "metadata": {},
   "outputs": [
    {
     "name": "stdout",
     "output_type": "stream",
     "text": [
      "0 4.5521617 [1.5902202] [0.65510905]\n",
      "200 0.006043305 [0.90992844] [0.20475386]\n",
      "400 0.0023076248 [0.94434124] [0.1265254]\n",
      "600 0.0008811631 [0.9656063] [0.07818493]\n",
      "800 0.00033647017 [0.9787467] [0.04831352]\n",
      "1000 0.00012848047 [0.98686683] [0.02985476]\n",
      "1200 4.90596e-05 [0.9918845] [0.01844836]\n",
      "1400 1.873302e-05 [0.9949852] [0.01139989]\n",
      "1600 7.15306e-06 [0.99690115] [0.00704439]\n",
      "1800 2.7314627e-06 [0.9980851] [0.00435308]\n",
      "2000 1.0430432e-06 [0.9988166] [0.00269006]\n"
     ]
    }
   ],
   "source": [
    "import tensorflow as tf\n",
    "\n",
    "W = tf.Variable(tf.random_normal([1]), name = 'weight')\n",
    "b = tf.Variable(tf.random_normal([1]), name = 'bias')\n",
    "\n",
    "X = tf.placeholder(tf.float32, shape = [None])\n",
    "Y = tf.placeholder(tf.float32, shape = [None])\n",
    "\n",
    "# Our hypothesis XW + b\n",
    "hypothesis = X * W + b\n",
    "\n",
    "# cost/loss funtion\n",
    "cost = tf.reduce_mean(tf.square(hypothesis - Y))\n",
    "\n",
    "# Minimize\n",
    "optimizer = tf.train.GradientDescentOptimizer(learning_rate=0.01)\n",
    "train = optimizer.minimize(cost)\n",
    "\n",
    "# Launch the graph in a session\n",
    "sess = tf.Session()\n",
    "# Initializes global variables in the graph\n",
    "sess.run(tf.global_variables_initializer())\n",
    "\n",
    "# Fit the line\n",
    "for step in range(2001):\n",
    "    cost_val, W_val, b_val, _ = sess.run([cost, W, b, train], feed_dict={X:[1,2,3], Y:[1,2,3]})\n",
    "    if step % 200 == 0:\n",
    "        print(step, cost_val, W_val, b_val)"
   ]
  }
 ],
 "metadata": {
  "kernelspec": {
   "display_name": "Python 3",
   "language": "python",
   "name": "python3"
  },
  "language_info": {
   "codemirror_mode": {
    "name": "ipython",
    "version": 3
   },
   "file_extension": ".py",
   "mimetype": "text/x-python",
   "name": "python",
   "nbconvert_exporter": "python",
   "pygments_lexer": "ipython3",
   "version": "3.7.3"
  }
 },
 "nbformat": 4,
 "nbformat_minor": 2
}
